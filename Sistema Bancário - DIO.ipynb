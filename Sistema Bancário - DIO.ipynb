{
 "cells": [
  {
   "cell_type": "code",
   "execution_count": null,
   "id": "70b827d9",
   "metadata": {},
   "outputs": [],
   "source": [
    "menu = \"\"\"\n",
    "Escolha o que deseja:\n",
    "[d] Depositar\n",
    "[s] Sacar\n",
    "[e] Extrato\n",
    "[q] Sair \n",
    "\n",
    "=> \"\"\""
   ]
  },
  {
   "cell_type": "code",
   "execution_count": null,
   "id": "f0aa8780",
   "metadata": {},
   "outputs": [],
   "source": [
    "saldo = 0\n",
    "limite = 500\n",
    "extrato = \"\"\n",
    "numero_saques = 0\n",
    "LIMITE_SAQUES = 3"
   ]
  },
  {
   "cell_type": "code",
   "execution_count": null,
   "id": "27ec398d",
   "metadata": {},
   "outputs": [],
   "source": [
    "while True:\n",
    "    opcao = input(menu)\n",
    "    if opcao == \"d\":\n",
    "        valor = float(input(\"Informe o valor do depósito: \"))\n",
    "        \n",
    "        if valor > 0:\n",
    "            saldo += valor\n",
    "            extrato += f\"Depósito: R$ {valor:.2f}\\n\"\n",
    "            print(\"Depósito realizado com sucesso!\")\n",
    "        \n",
    "        else:\n",
    "            print(\"Operação falhou! O valor informado é inválido.\")\n",
    "    \n",
    "    elif opcao == \"s\":\n",
    "        valor = float(input(\"Informe o valor do saque: \"))\n",
    "        \n",
    "        excedeu_saldo = valor > saldo\n",
    "        \n",
    "        excedeu_limite = valor > limite\n",
    "        \n",
    "        excedeu_saque = numero_saques >= LIMITE_SAQUES\n",
    "        \n",
    "        if excedeu_saldo: \n",
    "            print(\"Operação falhou! Você não tem saldo suficiente.\")\n",
    "            \n",
    "        elif excedeu_limite:\n",
    "            print(\"Operação falhou! O valor do saque excedeu o limite.\")\n",
    "            \n",
    "        elif excedeu_saque:\n",
    "            print(\"Operação falhou! Número máximo de saques excedido.\")\n",
    "            \n",
    "        elif valor > 0:\n",
    "            saldo -= valor\n",
    "            extrato += f\"Saque: R$ {valor: .2f}\\n\"\n",
    "            numero_saques += 1\n",
    "            print(\"Saque realizado com sucesso!\")\n",
    "        else: \n",
    "            print(\"Operação falhou! O valor informado é inválido.\")\n",
    "    \n",
    "    elif opcao == \"e\":\n",
    "        print(\"\\n=============== EXTRATO ================\")\n",
    "        print (\"Não foram realizados movimentações.\" if not extrato else extrato)\n",
    "        print (f\"\\nSaldo: R$ {saldo:.2f}\")\n",
    "        print(\"======================\")\n",
    "    \n",
    "    elif opcao == \"q\":\n",
    "        break\n",
    "    \n",
    "    else:\n",
    "        print(\"Operação inválida, por favor, selecione novamente a operação desejada.\")"
   ]
  },
  {
   "cell_type": "code",
   "execution_count": null,
   "id": "4822b628",
   "metadata": {},
   "outputs": [],
   "source": []
  },
  {
   "cell_type": "code",
   "execution_count": null,
   "id": "dfb37fba",
   "metadata": {},
   "outputs": [],
   "source": []
  },
  {
   "cell_type": "code",
   "execution_count": null,
   "id": "9226b83f",
   "metadata": {},
   "outputs": [],
   "source": []
  },
  {
   "cell_type": "code",
   "execution_count": null,
   "id": "4e5ffe47",
   "metadata": {},
   "outputs": [],
   "source": []
  },
  {
   "cell_type": "code",
   "execution_count": null,
   "id": "127ad86c",
   "metadata": {},
   "outputs": [],
   "source": []
  },
  {
   "cell_type": "code",
   "execution_count": null,
   "id": "9de929b5",
   "metadata": {},
   "outputs": [],
   "source": []
  },
  {
   "cell_type": "code",
   "execution_count": null,
   "id": "3fc5efcf",
   "metadata": {},
   "outputs": [],
   "source": []
  },
  {
   "cell_type": "code",
   "execution_count": null,
   "id": "050d457b",
   "metadata": {},
   "outputs": [],
   "source": []
  },
  {
   "cell_type": "code",
   "execution_count": null,
   "id": "03246c9a",
   "metadata": {},
   "outputs": [],
   "source": []
  },
  {
   "cell_type": "code",
   "execution_count": null,
   "id": "3af5bd47",
   "metadata": {},
   "outputs": [],
   "source": []
  },
  {
   "cell_type": "code",
   "execution_count": null,
   "id": "e9993174",
   "metadata": {},
   "outputs": [],
   "source": []
  },
  {
   "cell_type": "code",
   "execution_count": null,
   "id": "da160899",
   "metadata": {},
   "outputs": [],
   "source": []
  },
  {
   "cell_type": "code",
   "execution_count": null,
   "id": "28229718",
   "metadata": {},
   "outputs": [],
   "source": []
  },
  {
   "cell_type": "code",
   "execution_count": null,
   "id": "f5655190",
   "metadata": {},
   "outputs": [],
   "source": []
  },
  {
   "cell_type": "code",
   "execution_count": null,
   "id": "4599ce3b",
   "metadata": {},
   "outputs": [],
   "source": []
  },
  {
   "cell_type": "code",
   "execution_count": null,
   "id": "861229cb",
   "metadata": {},
   "outputs": [],
   "source": []
  },
  {
   "cell_type": "code",
   "execution_count": null,
   "id": "a044c500",
   "metadata": {},
   "outputs": [],
   "source": []
  },
  {
   "cell_type": "code",
   "execution_count": null,
   "id": "143a09cd",
   "metadata": {},
   "outputs": [],
   "source": []
  },
  {
   "cell_type": "code",
   "execution_count": null,
   "id": "ec1ad33b",
   "metadata": {},
   "outputs": [],
   "source": []
  }
 ],
 "metadata": {
  "kernelspec": {
   "display_name": "Python 3 (ipykernel)",
   "language": "python",
   "name": "python3"
  },
  "language_info": {
   "codemirror_mode": {
    "name": "ipython",
    "version": 3
   },
   "file_extension": ".py",
   "mimetype": "text/x-python",
   "name": "python",
   "nbconvert_exporter": "python",
   "pygments_lexer": "ipython3",
   "version": "3.11.5"
  }
 },
 "nbformat": 4,
 "nbformat_minor": 5
}
